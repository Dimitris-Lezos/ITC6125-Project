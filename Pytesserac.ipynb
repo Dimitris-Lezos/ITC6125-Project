{
 "cells": [
  {
   "cell_type": "markdown",
   "id": "23af11f7",
   "metadata": {},
   "source": [
    "# Use Pytesserac to exclude NOM, PRENOM from the images"
   ]
  },
  {
   "cell_type": "code",
   "execution_count": 21,
   "id": "86fe7e20",
   "metadata": {},
   "outputs": [
    {
     "data": {
      "image/png": "[encoded data removed]",
      "text/plain": [
       "<Figure size 640x480 with 1 Axes>"
      ]
     },
     "metadata": {},
     "output_type": "display_data"
    }
   ],
   "source": [
    "import pytesseract\n",
    "from PIL import Image, ImageDraw\n",
    "import re\n",
    "import matplotlib.pyplot as plt\n",
    " \n",
    "\n",
    "# Function to clean the extracted text\n",
    "def clean_text(text):\n",
    "    words = text.split()\n",
    "    cleaned_words = [word for word in words if not re.match(r'^(N|n)(OM|om)?(:)?|^(P|p)(RENOM|renom)?(:)?', word)]\n",
    "    cleaned_text = ' '.join(cleaned_words)\n",
    "    return cleaned_text\n",
    "\n",
    "# Path to your single image file\n",
    "image_path = './Handwriting_Dataset/train_v2/train/TRAIN_00002.jpg'\n",
    "\n",
    "# Open the image using Pillow\n",
    "image = Image.open(image_path)\n",
    "\n",
    "# Use pytesseract to extract text and bounding boxes from the image\n",
    "extracted_data = pytesseract.image_to_data(image, output_type=pytesseract.Output.DICT)\n",
    "\n",
    "# Initialize a drawing context on the image\n",
    "draw = ImageDraw.Draw(image)\n",
    "\n",
    "# Define a regex pattern for unwanted text\n",
    "unwanted_pattern = r'^(N|n)(OM|om)?(:)?|^(P|p)(RENOM|renom)?(:)?'\n",
    "\n",
    "# Loop through the identified text and erase the unwanted parts\n",
    "for i, word_text in enumerate(extracted_data['text']):\n",
    "    if re.match(unwanted_pattern, word_text):\n",
    "        left = extracted_data['left'][i]\n",
    "        top = extracted_data['top'][i]\n",
    "        width = extracted_data['width'][i]\n",
    "        height = extracted_data['height'][i]\n",
    "\n",
    "        # Draw a white rectangle to \"erase\" the unwanted text\n",
    "        draw.rectangle([left, top, left + width, top + height], fill='white')\n",
    "\n",
    "# Clean the extracted text from the modified image\n",
    "extracted_text = pytesseract.image_to_string(image, config='--psm 6')\n",
    "\n",
    "# Clean the extracted text using the clean_text function\n",
    "cleaned_text = clean_text(extracted_text)\n",
    "\n",
    "# Print the results\n",
    "# print(f'Original Text:\\n{extracted_text}\\n')\n",
    "# print(f'Cleaned Text:\\n{cleaned_text}')\n",
    "\n",
    "# # Save the modified image\n",
    "# image.save('modified_image.jpg')\n",
    "\n",
    "# Display the modified image\n",
    "plt.imshow(image)\n",
    "plt.axis('off')  # Turn off axis numbers and ticks\n",
    "plt.show()"
   ]
  },
  {
   "cell_type": "markdown",
   "id": "123d628e",
   "metadata": {},
   "source": [
    "# Print the image names for the images that have NOM, PRENOM and it is recognized by Pytesserac"
   ]
  },
  {
   "cell_type": "code",
   "execution_count": 22,
   "id": "fbafc6bf",
   "metadata": {},
   "outputs": [
    {
     "name": "stdout",
     "output_type": "stream",
     "text": [
      "Found unwanted text in: ./Handwriting_Dataset/train_v2/train_custom/TRAIN_00026.jpg\n",
      "Found unwanted text in: ./Handwriting_Dataset/train_v2/train_custom/TRAIN_00031.jpg\n",
      "Found unwanted text in: ./Handwriting_Dataset/train_v2/train_custom/TRAIN_00018.jpg\n",
      "Found unwanted text in: ./Handwriting_Dataset/train_v2/train_custom/TRAIN_00021.jpg\n",
      "Found unwanted text in: ./Handwriting_Dataset/train_v2/train_custom/TRAIN_00012.jpg\n",
      "Found unwanted text in: ./Handwriting_Dataset/train_v2/train_custom/TRAIN_00038.jpg\n",
      "Found unwanted text in: ./Handwriting_Dataset/train_v2/train_custom/TRAIN_00010.jpg\n",
      "Found unwanted text in: ./Handwriting_Dataset/train_v2/train_custom/TRAIN_00004.jpg\n",
      "Found unwanted text in: ./Handwriting_Dataset/train_v2/train_custom/TRAIN_00039.jpg\n",
      "Found unwanted text in: ./Handwriting_Dataset/train_v2/train_custom/TRAIN_00015.jpg\n",
      "Found unwanted text in: ./Handwriting_Dataset/train_v2/train_custom/TRAIN_00001.jpg\n",
      "Found unwanted text in: ./Handwriting_Dataset/train_v2/train_custom/TRAIN_00002.jpg\n",
      "Found unwanted text in: ./Handwriting_Dataset/train_v2/train_custom/TRAIN_00016.jpg\n"
     ]
    }
   ],
   "source": [
    "import os\n",
    "import pytesseract\n",
    "from PIL import Image, ImageDraw\n",
    "\n",
    "# Function to clean the extracted text\n",
    "def clean_text(text):\n",
    "    words = text.split()\n",
    "    cleaned_words = [word for word in words if word not in ['NOM', 'PRENOM', 'NOM:', 'PRENOM:']]\n",
    "    cleaned_text = ' '.join(cleaned_words)\n",
    "    return cleaned_text\n",
    "\n",
    "# Function to process each image\n",
    "def process_image(image_path):\n",
    "    # Open the image using Pillow\n",
    "    image = Image.open(image_path)\n",
    "\n",
    "    # Use pytesseract to extract text and bounding boxes from the image\n",
    "    extracted_data = pytesseract.image_to_data(image, output_type=pytesseract.Output.DICT)\n",
    "\n",
    "    # Initialize a drawing context on the image\n",
    "    draw = ImageDraw.Draw(image)\n",
    "\n",
    "    # Define a list of unwanted text\n",
    "    unwanted_text = ['NOM', 'PRENOM', 'NOM:', 'PRENOM:']\n",
    "\n",
    "    found_unwanted_text = False\n",
    "\n",
    "    # Loop through the identified text and erase the unwanted parts\n",
    "    for i, word_text in enumerate(extracted_data['text']):\n",
    "        if word_text in unwanted_text:\n",
    "            left = extracted_data['left'][i]\n",
    "            top = extracted_data['top'][i]\n",
    "            width = extracted_data['width'][i]\n",
    "            height = extracted_data['height'][i]\n",
    "\n",
    "            # Draw a white rectangle to \"erase\" the unwanted text\n",
    "            draw.rectangle([left, top, left + width, top + height], fill='white')\n",
    "            found_unwanted_text = True\n",
    "\n",
    "    if found_unwanted_text:\n",
    "        print(f'Found unwanted text in: {image_path}')\n",
    "    \n",
    "    # Clean the extracted text from the modified image\n",
    "    extracted_text = pytesseract.image_to_string(image, config='--psm 6')\n",
    "\n",
    "    # Clean the extracted text\n",
    "    cleaned_text = clean_text(extracted_text)\n",
    "\n",
    "    # Print the results if needed\n",
    "    # print(f'Original Text:\\n{extracted_text}\\n')\n",
    "    # print(f'Cleaned Text:\\n{cleaned_text}')\n",
    "\n",
    "    # Save the modified image if needed\n",
    "    # image.save('modified_image.jpg')\n",
    "    \n",
    "    # Optionally return cleaned_text or other processed data\n",
    "    return cleaned_text\n",
    "\n",
    "# Path to the folder containing images\n",
    "folder_path = './Handwriting_Dataset/train_v2/train_custom/'\n",
    "\n",
    "# List all files in the folder\n",
    "image_files = os.listdir(folder_path)\n",
    "\n",
    "# Process each image in the folder\n",
    "for filename in image_files:\n",
    "    if filename.endswith('.jpg') or filename.endswith('.png') or filename.endswith('.jpeg'):\n",
    "        image_path = os.path.join(folder_path, filename)\n",
    "        process_image(image_path)\n"
   ]
  },
  {
   "cell_type": "code",
   "execution_count": null,
   "id": "acad40ce",
   "metadata": {},
   "outputs": [],
   "source": []
  }
 ],
 "metadata": {
  "kernelspec": {
   "display_name": "Python 3 (ipykernel)",
   "language": "python",
   "name": "python3"
  },
  "language_info": {
   "codemirror_mode": {
    "name": "ipython",
    "version": 3
   },
   "file_extension": ".py",
   "mimetype": "text/x-python",
   "name": "python",
   "nbconvert_exporter": "python",
   "pygments_lexer": "ipython3",
   "version": "3.11.4"
  }
 },
 "nbformat": 4,
 "nbformat_minor": 5
}
